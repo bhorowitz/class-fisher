{
 "cells": [
  {
   "cell_type": "code",
   "execution_count": 1,
   "metadata": {
    "collapsed": true
   },
   "outputs": [],
   "source": [
    "from cci import *\n",
    "import numpy as np\n",
    "%matplotlib inline\n",
    "import matplotlib\n",
    "import matplotlib.pyplot as plt\n",
    "from copy import *\n",
    "from math import *\n",
    "import pylab"
   ]
  },
  {
   "cell_type": "code",
   "execution_count": 142,
   "metadata": {
    "collapsed": true
   },
   "outputs": [],
   "source": [
    "T_cmb = 2.725\n",
    "pfc = {\n",
    "\"omega_b\":0.02226,\n",
    "\"omega_cdm\": 0.1193,\n",
    "\"h\" : 0.6751,\n",
    "\"tau_reio\" : 0.063, \n",
    "\"n_s\" :  0.9653,\n",
    "\"A_s\" :  2.13e-9 \n",
    "}\n",
    "\n",
    "best_fit ={\n",
    "\"omega_b\": 0.0221693,\n",
    "\"omega_cdm\": 0.121012,\n",
    "\"h\" : 0.661266,\n",
    "\"tau_reio\" : 0.071823,\n",
    "\"n_s\" :  0.961953,\n",
    "\"ln10^{10}A_s\" :  3.07599,\n",
    "\"A_planck\":   0.998698,\n",
    "\n",
    "\"N_eff\" : 1.046,\n",
    "\"N_ncdm\" : 2,\n",
    "\"m_ncdm \": [0.08, 0.08],\n",
    "\"sig_ncdm\" : [0.500989,0.500989]\n",
    "    \n",
    "}\n",
    "\n",
    "pfc_ncdm ={\"omega_b\":0.02226,\n",
    "\"omega_cdm\": 0.1193,\n",
    "\"h\" : 0.6751,\n",
    "\"tau_reio\" : 0.063, \n",
    "\"n_s\" :  0.9653,\n",
    "\"A_s\" :  2.13e-9,\n",
    "\"N_eff\" : 1.046,\n",
    "\"N_ncdm\" : 2,\n",
    "\"m_ncdm \": [0.08, 0.08],\n",
    "\"sig_ncdm\" : [0.5,0.5]\n",
    "}\n",
    "\n"
   ]
  },
  {
   "cell_type": "code",
   "execution_count": 3,
   "metadata": {
    "collapsed": false
   },
   "outputs": [],
   "source": [
    "planck = run_class(pfc)\n",
    "inter = run_class(pfc_ncdm)"
   ]
  },
  {
   "cell_type": "code",
   "execution_count": 4,
   "metadata": {
    "collapsed": false
   },
   "outputs": [
    {
     "data": {
      "image/png": "[encoded data removed]",
      "text/plain": [
       "<matplotlib.figure.Figure at 0x7f1da8dfbdd0>"
      ]
     },
     "metadata": {},
     "output_type": "display_data"
    }
   ],
   "source": [
    "pylab.plot(planck[:,0],np.multiply(planck[:,0],np.multiply(planck[:,0],planck[:,1])),label = \"Planck ($N=3.046$)\")\n",
    "pylab.plot(inter[:,0],np.multiply(inter[:,0],np.multiply(inter[:,0],inter[:,1])),label = \"Interaction\")\n",
    "\n",
    "\n",
    "\n",
    "#pylab.loglog(noint[:,0],cl_original,label = \"Planck (original code)\")\n",
    "\n",
    "#pylab.loglog(one_int[:,0],cl_one_int,label = \"Planck + $N_{\\text{eff}}=1.0$ + int\")\n",
    "#pylab.loglog(one_noint[:,0],cl_one_noint,label = r\"($a^4 G^m = 1 \\times 10^{-22}$), lmax = 10\")\n",
    "\n",
    "plt.rc('font', family='serif')\n",
    "pylab.legend(loc=4)\n",
    "plt.xlim((10,3000))\n",
    "#plt.ylim((5*10**-11,5*10**-9))\n",
    "pylab.grid()\n",
    "pylab.xlabel(\"$l$\")\n",
    "pylab.ylabel(\"$l^3(l+1)C_l/2\\pi$\")# in $[\\mu k]^2$\")\n",
    "pylab.rcParams['figure.figsize'] = (10.0, 8.0)"
   ]
  },
  {
   "cell_type": "code",
   "execution_count": 135,
   "metadata": {
    "collapsed": false
   },
   "outputs": [],
   "source": [
    "def dC_dx(params, x, c_l, p_change=0.001):\n",
    "    if x not in params:\n",
    "        raise NameError(x+ \" not in parameter list.\")\n",
    "    temp_params = deepcopy(params)\n",
    "    #c_l = run_class(temp_params) commented out since it will be faster to just calculate this once\n",
    "    if isinstance(params[x],list):\n",
    "        temp_params[x]= [i*(1+p_change) for i in params[x]]\n",
    "        dx = i*(p_change)\n",
    "    else:\n",
    "        temp_params[x]= params[x]*(1+p_change)\n",
    "        dx = params[x]*(p_change)\n",
    "    c_lp = run_class(temp_params)\n",
    "    return np.hstack([np.array([c_lp[:,0]]).T,np.divide(c_lp[:,1:]-c_l[:,1:],dx)])"
   ]
  },
  {
   "cell_type": "code",
   "execution_count": 136,
   "metadata": {
    "collapsed": false
   },
   "outputs": [],
   "source": [
    "#Planck Values: http://arxiv.org/pdf/astro-ph/0310198v3.pdf\n",
    "f_sky = 0.65#80\n",
    "weight = 40*10**(-9)/T_cmb #unitless, for P bands: 56\n",
    "beamsize = 7 #in degrees(?)\n",
    "def delta_Cl(l,C_l,f_sky=f_sky,b=beamsize,w=weight):\n",
    "    B = np.exp(l*(l+1)*b**2/(8*log(2)))\n",
    "    dC = 2/(f_sky*(2*l+1))*((C_l + w**2*B**(-2))**2)\n",
    "    return dC"
   ]
  },
  {
   "cell_type": "code",
   "execution_count": 137,
   "metadata": {
    "collapsed": false
   },
   "outputs": [],
   "source": [
    "def simple_fisher(params,params_var = [0], p_change = 0.00005):\n",
    "    size = len(params_var)\n",
    "    if params_var == [0]:\n",
    "        params_var = params\n",
    "        size = len(params.keys())\n",
    "    C=run_class(params)\n",
    "    F = np.zeros([size,size])\n",
    "    for i1,j1 in enumerate(params_var):\n",
    "        for i2,j2 in enumerate(params_var):\n",
    "            sum_ol = 0\n",
    "            print j1, j2\n",
    "            V1 = dC_dx(params,j1,C,p_change = p_change)\n",
    "            V2 = dC_dx(params,j2,C,p_change = p_change)\n",
    "            for l,X in enumerate(C):\n",
    "                V_deltaC = 1/delta_Cl(X[0],X[1])\n",
    "                #print X[0],V_deltaC, V1[l][1],V2[l][1]\n",
    "                sum_ol = sum_ol + V1[l][1]*V2[l][1]*V_deltaC\n",
    "            print sum_ol\n",
    "            F[i1,i2]=sum_ol\n",
    "    return F"
   ]
  },
  {
   "cell_type": "code",
   "execution_count": 138,
   "metadata": {
    "collapsed": false,
    "scrolled": true
   },
   "outputs": [
    {
     "name": "stdout",
     "output_type": "stream",
     "text": [
      "A_s A_s\n"
     ]
    },
    {
     "name": "stderr",
     "output_type": "stream",
     "text": [
      "/anaconda2/lib/python2.7/site-packages/ipykernel/__main__.py:6: RuntimeWarning: overflow encountered in exp\n"
     ]
    },
    {
     "name": "stdout",
     "output_type": "stream",
     "text": [
      "4.48075563822e+23\n",
      "A_s h\n",
      "-9.14403037033e+14\n",
      "A_s tau_reio\n",
      "-4.4417755021e+15\n",
      "A_s n_s\n",
      "8.77922277127e+14\n",
      "A_s omega_b\n",
      "1.30352864639e+16\n",
      "A_s omega_cdm\n",
      "-3.91620886763e+15\n",
      "h A_s\n",
      "-9.14403037033e+14\n",
      "h h\n",
      "5039719.36041\n",
      "h tau_reio\n",
      "9095278.85547\n",
      "h n_s\n",
      "-2152974.1691\n",
      "h omega_b\n",
      "-63933521.1925\n",
      "h omega_cdm\n",
      "19636605.7958\n",
      "tau_reio A_s\n",
      "-4.4417755021e+15\n",
      "tau_reio h\n"
     ]
    },
    {
     "ename": "NameError",
     "evalue": "Error in class, check class.log file",
     "output_type": "error",
     "traceback": [
      "\u001b[1;31m\u001b[0m",
      "\u001b[1;31mNameError\u001b[0mTraceback (most recent call last)",
      "\u001b[1;32m<ipython-input-138-213c60a78a3a>\u001b[0m in \u001b[0;36m<module>\u001b[1;34m()\u001b[0m\n\u001b[1;32m----> 1\u001b[1;33m \u001b[0mF_pfc\u001b[0m \u001b[1;33m=\u001b[0m \u001b[0msimple_fisher\u001b[0m\u001b[1;33m(\u001b[0m\u001b[0mpfc\u001b[0m\u001b[1;33m)\u001b[0m\u001b[1;33m\u001b[0m\u001b[0m\n\u001b[0m",
      "\u001b[1;32m<ipython-input-137-d859cd8e0d45>\u001b[0m in \u001b[0;36msimple_fisher\u001b[1;34m(params, params_var, p_change)\u001b[0m\n\u001b[0;32m     10\u001b[0m             \u001b[0msum_ol\u001b[0m \u001b[1;33m=\u001b[0m \u001b[1;36m0\u001b[0m\u001b[1;33m\u001b[0m\u001b[0m\n\u001b[0;32m     11\u001b[0m             \u001b[1;32mprint\u001b[0m \u001b[0mj1\u001b[0m\u001b[1;33m,\u001b[0m \u001b[0mj2\u001b[0m\u001b[1;33m\u001b[0m\u001b[0m\n\u001b[1;32m---> 12\u001b[1;33m             \u001b[0mV1\u001b[0m \u001b[1;33m=\u001b[0m \u001b[0mdC_dx\u001b[0m\u001b[1;33m(\u001b[0m\u001b[0mparams\u001b[0m\u001b[1;33m,\u001b[0m\u001b[0mj1\u001b[0m\u001b[1;33m,\u001b[0m\u001b[0mC\u001b[0m\u001b[1;33m,\u001b[0m\u001b[0mp_change\u001b[0m \u001b[1;33m=\u001b[0m \u001b[0mp_change\u001b[0m\u001b[1;33m)\u001b[0m\u001b[1;33m\u001b[0m\u001b[0m\n\u001b[0m\u001b[0;32m     13\u001b[0m             \u001b[0mV2\u001b[0m \u001b[1;33m=\u001b[0m \u001b[0mdC_dx\u001b[0m\u001b[1;33m(\u001b[0m\u001b[0mparams\u001b[0m\u001b[1;33m,\u001b[0m\u001b[0mj2\u001b[0m\u001b[1;33m,\u001b[0m\u001b[0mC\u001b[0m\u001b[1;33m,\u001b[0m\u001b[0mp_change\u001b[0m \u001b[1;33m=\u001b[0m \u001b[0mp_change\u001b[0m\u001b[1;33m)\u001b[0m\u001b[1;33m\u001b[0m\u001b[0m\n\u001b[0;32m     14\u001b[0m             \u001b[1;32mfor\u001b[0m \u001b[0ml\u001b[0m\u001b[1;33m,\u001b[0m\u001b[0mX\u001b[0m \u001b[1;32min\u001b[0m \u001b[0menumerate\u001b[0m\u001b[1;33m(\u001b[0m\u001b[0mC\u001b[0m\u001b[1;33m)\u001b[0m\u001b[1;33m:\u001b[0m\u001b[1;33m\u001b[0m\u001b[0m\n",
      "\u001b[1;32m<ipython-input-135-bf2aa00683d1>\u001b[0m in \u001b[0;36mdC_dx\u001b[1;34m(params, x, c_l, p_change)\u001b[0m\n\u001b[0;32m     10\u001b[0m         \u001b[0mtemp_params\u001b[0m\u001b[1;33m[\u001b[0m\u001b[0mx\u001b[0m\u001b[1;33m]\u001b[0m\u001b[1;33m=\u001b[0m \u001b[0mparams\u001b[0m\u001b[1;33m[\u001b[0m\u001b[0mx\u001b[0m\u001b[1;33m]\u001b[0m\u001b[1;33m*\u001b[0m\u001b[1;33m(\u001b[0m\u001b[1;36m1\u001b[0m\u001b[1;33m+\u001b[0m\u001b[0mp_change\u001b[0m\u001b[1;33m)\u001b[0m\u001b[1;33m\u001b[0m\u001b[0m\n\u001b[0;32m     11\u001b[0m         \u001b[0mdx\u001b[0m \u001b[1;33m=\u001b[0m \u001b[0mparams\u001b[0m\u001b[1;33m[\u001b[0m\u001b[0mx\u001b[0m\u001b[1;33m]\u001b[0m\u001b[1;33m*\u001b[0m\u001b[1;33m(\u001b[0m\u001b[0mp_change\u001b[0m\u001b[1;33m)\u001b[0m\u001b[1;33m\u001b[0m\u001b[0m\n\u001b[1;32m---> 12\u001b[1;33m     \u001b[0mc_lp\u001b[0m \u001b[1;33m=\u001b[0m \u001b[0mrun_class\u001b[0m\u001b[1;33m(\u001b[0m\u001b[0mtemp_params\u001b[0m\u001b[1;33m)\u001b[0m\u001b[1;33m\u001b[0m\u001b[0m\n\u001b[0m\u001b[0;32m     13\u001b[0m     \u001b[1;32mreturn\u001b[0m \u001b[0mnp\u001b[0m\u001b[1;33m.\u001b[0m\u001b[0mhstack\u001b[0m\u001b[1;33m(\u001b[0m\u001b[1;33m[\u001b[0m\u001b[0mnp\u001b[0m\u001b[1;33m.\u001b[0m\u001b[0marray\u001b[0m\u001b[1;33m(\u001b[0m\u001b[1;33m[\u001b[0m\u001b[0mc_lp\u001b[0m\u001b[1;33m[\u001b[0m\u001b[1;33m:\u001b[0m\u001b[1;33m,\u001b[0m\u001b[1;36m0\u001b[0m\u001b[1;33m]\u001b[0m\u001b[1;33m]\u001b[0m\u001b[1;33m)\u001b[0m\u001b[1;33m.\u001b[0m\u001b[0mT\u001b[0m\u001b[1;33m,\u001b[0m\u001b[0mnp\u001b[0m\u001b[1;33m.\u001b[0m\u001b[0mdivide\u001b[0m\u001b[1;33m(\u001b[0m\u001b[0mc_lp\u001b[0m\u001b[1;33m[\u001b[0m\u001b[1;33m:\u001b[0m\u001b[1;33m,\u001b[0m\u001b[1;36m1\u001b[0m\u001b[1;33m:\u001b[0m\u001b[1;33m]\u001b[0m\u001b[1;33m-\u001b[0m\u001b[0mc_l\u001b[0m\u001b[1;33m[\u001b[0m\u001b[1;33m:\u001b[0m\u001b[1;33m,\u001b[0m\u001b[1;36m1\u001b[0m\u001b[1;33m:\u001b[0m\u001b[1;33m]\u001b[0m\u001b[1;33m,\u001b[0m\u001b[0mdx\u001b[0m\u001b[1;33m)\u001b[0m\u001b[1;33m]\u001b[0m\u001b[1;33m)\u001b[0m\u001b[1;33m\u001b[0m\u001b[0m\n",
      "\u001b[1;32m/global/u2/b/bhorowit/class-fisher/cci.py\u001b[0m in \u001b[0;36mrun_class\u001b[1;34m(params)\u001b[0m\n\u001b[0;32m     28\u001b[0m         \u001b[0mos\u001b[0m\u001b[1;33m.\u001b[0m\u001b[0msystem\u001b[0m\u001b[1;33m(\u001b[0m\u001b[1;34m\"rm ./output/\"\u001b[0m\u001b[1;33m+\u001b[0m\u001b[0mtemp_file_name\u001b[0m\u001b[1;33m[\u001b[0m\u001b[1;33m:\u001b[0m\u001b[1;33m-\u001b[0m\u001b[1;36m4\u001b[0m\u001b[1;33m]\u001b[0m\u001b[1;33m+\u001b[0m\u001b[1;34m\"00_cl.dat\"\u001b[0m\u001b[1;33m)\u001b[0m\u001b[1;33m\u001b[0m\u001b[0m\n\u001b[0;32m     29\u001b[0m     \u001b[1;32mexcept\u001b[0m\u001b[1;33m:\u001b[0m\u001b[1;33m\u001b[0m\u001b[0m\n\u001b[1;32m---> 30\u001b[1;33m             \u001b[1;32mraise\u001b[0m \u001b[0mNameError\u001b[0m\u001b[1;33m(\u001b[0m\u001b[1;34m\"Error in class, check class.log file\"\u001b[0m\u001b[1;33m)\u001b[0m\u001b[1;33m\u001b[0m\u001b[0m\n\u001b[0m\u001b[0;32m     31\u001b[0m     \u001b[1;32mreturn\u001b[0m \u001b[0mdata\u001b[0m\u001b[1;33m\u001b[0m\u001b[0m\n",
      "\u001b[1;31mNameError\u001b[0m: Error in class, check class.log file"
     ]
    }
   ],
   "source": [
    "F_pfc = simple_fisher(pfc)"
   ]
  },
  {
   "cell_type": "code",
   "execution_count": 77,
   "metadata": {
    "collapsed": false
   },
   "outputs": [
    {
     "name": "stdout",
     "output_type": "stream",
     "text": [
      "A_s 2.98781955733e-12\n",
      "h 0.000890895610349\n",
      "tau_reio 0.000301165906509\n",
      "n_s 0.00136796055867\n",
      "omega_b 5.68908082356e-05\n",
      "omega_cdm 0.000225278375144\n"
     ]
    }
   ],
   "source": [
    "#Unmarganilized Values (Very small!)\n",
    "for i,_ in enumerate(F_pfc):\n",
    "    print pfc.keys()[i], 2/sqrt(F_pfc[i,i])"
   ]
  },
  {
   "cell_type": "code",
   "execution_count": 22,
   "metadata": {
    "collapsed": false
   },
   "outputs": [
    {
     "data": {
      "text/plain": [
       "['A_s', 'h', 'tau_reio', 'n_s', 'omega_b', 'omega_cdm']"
      ]
     },
     "execution_count": 22,
     "metadata": {},
     "output_type": "execute_result"
    }
   ],
   "source": [
    "pfc.keys()"
   ]
  },
  {
   "cell_type": "code",
   "execution_count": 90,
   "metadata": {
    "collapsed": false
   },
   "outputs": [],
   "source": [
    "inverse = np.linalg.inv(F_pfc)"
   ]
  },
  {
   "cell_type": "code",
   "execution_count": 134,
   "metadata": {
    "collapsed": false
   },
   "outputs": [
    {
     "name": "stdout",
     "output_type": "stream",
     "text": [
      "A_s 1.61734238038e-06\n",
      "h 187.874457209\n",
      "tau_reio 162.338669152\n",
      "n_s 107.162398858\n",
      "omega_b 2.7469589097\n",
      "omega_cdm 46.2442666899\n"
     ]
    }
   ],
   "source": [
    "# Marganilized Errors; compare well with that on page 31 of 1502.01589v2 (TT + lowP)\n",
    "inverse = np.linalg.inv(F_pfc)\n",
    "for i,_ in enumerate(F_pfc):\n",
    "    print pfc.keys()[i], 2*sqrt(inverse[i,i])"
   ]
  },
  {
   "cell_type": "code",
   "execution_count": 139,
   "metadata": {
    "collapsed": true
   },
   "outputs": [],
   "source": [
    "params_var = [\"A_s\",\n",
    " 'n_s',\n",
    " 'omega_b',\n",
    " 'omega_cdm',\n",
    " 'h',\n",
    " 'tau_reio',\n",
    "    'sig_ncdm']"
   ]
  },
  {
   "cell_type": "code",
   "execution_count": 143,
   "metadata": {
    "collapsed": false,
    "scrolled": true
   },
   "outputs": [
    {
     "name": "stdout",
     "output_type": "stream",
     "text": [
      "A_s A_s\n"
     ]
    },
    {
     "name": "stderr",
     "output_type": "stream",
     "text": [
      "/anaconda2/lib/python2.7/site-packages/ipykernel/__main__.py:6: RuntimeWarning: overflow encountered in exp\n"
     ]
    },
    {
     "name": "stdout",
     "output_type": "stream",
     "text": [
      "4.48075563592e+23\n",
      "A_s n_s\n",
      "8.81894722696e+14\n",
      "A_s omega_b\n",
      "1.25090835812e+16\n",
      "A_s omega_cdm\n",
      "-3.78094808779e+15\n",
      "A_s h\n",
      "-8.88689696693e+14\n",
      "A_s tau_reio\n",
      "-4.50994182693e+15\n",
      "A_s sig_ncdm\n",
      "-4.70669894015e+13\n",
      "n_s A_s\n",
      "8.81894722696e+14\n",
      "n_s n_s\n",
      "2153402.89279\n",
      "n_s omega_b\n",
      "35926124.5496\n",
      "n_s omega_cdm\n",
      "-7879223.22888\n",
      "n_s h\n",
      "-2088975.53119\n",
      "n_s tau_reio\n",
      "-8988553.35696\n",
      "n_s sig_ncdm\n",
      "-105808.755838\n",
      "omega_b A_s\n",
      "1.25090835812e+16\n",
      "omega_b n_s\n",
      "35926124.5496\n",
      "omega_b omega_b\n",
      "1122262026.95\n",
      "omega_b omega_cdm\n",
      "-229983113.393\n",
      "omega_b h\n",
      "-63553442.4931\n",
      "omega_b tau_reio\n",
      "-131964514.119\n",
      "omega_b sig_ncdm\n",
      "-2096215.85785\n",
      "omega_cdm A_s\n",
      "-3.78094808779e+15\n",
      "omega_cdm n_s\n",
      "-7879223.22888\n",
      "omega_cdm omega_b\n",
      "-229983113.393\n",
      "omega_cdm omega_cdm\n",
      "75520993.3236\n",
      "omega_cdm h\n",
      "19022407.6434\n",
      "omega_cdm tau_reio\n",
      "38568775.456\n",
      "omega_cdm sig_ncdm\n",
      "587971.303543\n",
      "h A_s\n",
      "-8.88689696693e+14\n",
      "h n_s\n",
      "-2088975.53119\n",
      "h omega_b\n",
      "-63553442.4931\n",
      "h omega_cdm\n",
      "19022407.6434\n",
      "h h\n",
      "4992631.22991\n",
      "h tau_reio\n",
      "9092178.86887\n",
      "h sig_ncdm\n",
      "140504.194783\n",
      "tau_reio A_s\n",
      "-4.50994182693e+15\n",
      "tau_reio n_s\n",
      "-8988553.35696\n",
      "tau_reio omega_b\n",
      "-131964514.119\n",
      "tau_reio omega_cdm\n",
      "38568775.456\n",
      "tau_reio h\n",
      "9092178.86887\n",
      "tau_reio tau_reio\n",
      "45550503.4913\n",
      "tau_reio sig_ncdm\n",
      "483317.282089\n",
      "sig_ncdm A_s\n",
      "-4.70669894015e+13\n",
      "sig_ncdm n_s\n",
      "-105808.755838\n",
      "sig_ncdm omega_b\n",
      "-2096215.85785\n",
      "sig_ncdm omega_cdm\n",
      "587971.303543\n",
      "sig_ncdm h\n",
      "140504.194783\n",
      "sig_ncdm tau_reio\n",
      "483317.282089\n",
      "sig_ncdm sig_ncdm\n",
      "19706.4072855\n"
     ]
    }
   ],
   "source": [
    "F_ncdm = simple_fisher(pfc_ncdm,params_var=params_var)"
   ]
  },
  {
   "cell_type": "code",
   "execution_count": 144,
   "metadata": {
    "collapsed": false
   },
   "outputs": [
    {
     "name": "stdout",
     "output_type": "stream",
     "text": [
      "A_s 7.52666004597e-11\n",
      "n_s 0.00723886017184\n",
      "omega_b 0.000189033481024\n",
      "omega_cdm 0.00272207529525\n",
      "h 0.0109053802542\n",
      "tau_reio 0.0082442206093\n",
      "sig_ncdm 0.0181644825478\n"
     ]
    }
   ],
   "source": [
    "inverse = np.linalg.inv(F_ncdm)\n",
    "for i,_ in enumerate(F_ncdm):\n",
    "    print params_var[i], 2*sqrt(inverse[i,i])"
   ]
  },
  {
   "cell_type": "code",
   "execution_count": 116,
   "metadata": {
    "collapsed": false
   },
   "outputs": [],
   "source": [
    "F_ncdm = F_ncdm[0:6,0:6]"
   ]
  },
  {
   "cell_type": "code",
   "execution_count": null,
   "metadata": {
    "collapsed": true
   },
   "outputs": [],
   "source": []
  }
 ],
 "metadata": {
  "kernelspec": {
   "display_name": "Python 2",
   "language": "python",
   "name": "python2"
  },
  "language_info": {
   "codemirror_mode": {
    "name": "ipython",
    "version": 2
   },
   "file_extension": ".py",
   "mimetype": "text/x-python",
   "name": "python",
   "nbconvert_exporter": "python",
   "pygments_lexer": "ipython2",
   "version": "2.7.11"
  }
 },
 "nbformat": 4,
 "nbformat_minor": 0
}
