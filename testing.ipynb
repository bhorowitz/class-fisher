{
 "cells": [
  {
   "cell_type": "code",
   "execution_count": 8,
   "metadata": {
    "collapsed": true
   },
   "outputs": [],
   "source": [
    "from cci import *\n",
    "import numpy as np\n",
    "%matplotlib inline\n",
    "import matplotlib\n",
    "import matplotlib.pyplot as plt\n",
    "\n",
    "import pylab"
   ]
  },
  {
   "cell_type": "code",
   "execution_count": 15,
   "metadata": {
    "collapsed": true
   },
   "outputs": [],
   "source": [
    "pfc = {\n",
    "\"omega_b\":0.02226,\n",
    "\"omega_c\": 0.1193,\n",
    "\"h\" : 0.6751,\n",
    "\"tau_reio\" : 0.063, \n",
    "\"n_s\" :  0.9653,\n",
    "\"A_s\" :  2.13e-9 \n",
    "}\n",
    "\n",
    "best_fit ={\n",
    "\"omega_b\": 0.0221693,\n",
    "\"omega_c\": 0.121012,\n",
    "\"h\" : 0.661266,\n",
    "\"tau_reio\" : 0.071823,\n",
    "\"sig_ncdm\" : [0.0500989,0.500989],\n",
    "\"n_s\" :  0.961953,\n",
    "\"ln10^{10}A_s\" :  3.07599,\n",
    "\"A_planck\":   0.998698,\n",
    "\n",
    "\"N_eff\" : 1.046,\n",
    "\"N_ncdm\" : 2,\n",
    "\"m_ncdm \": [0.08, 0.08],\n",
    "\"sig_ncdm\" : [0.0500989,0.500989]\n",
    "    \n",
    "}\n",
    "\n"
   ]
  },
  {
   "cell_type": "code",
   "execution_count": 16,
   "metadata": {
    "collapsed": false
   },
   "outputs": [
    {
     "name": "stdout",
     "output_type": "stream",
     "text": [
      "/global/homes/b/bhorowit/class_versions/class_public/class temp.ini\n",
      "/global/homes/b/bhorowit/class_versions/class_public/class temp.ini\n"
     ]
    }
   ],
   "source": [
    "planck = run_class(pfc)\n",
    "inter = run_class(best_fit)"
   ]
  },
  {
   "cell_type": "code",
   "execution_count": 11,
   "metadata": {
    "collapsed": false
   },
   "outputs": [
    {
     "data": {
      "image/png": "[encoded data removed]",
      "text/plain": [
       "<matplotlib.figure.Figure at 0x7faab608a8d0>"
      ]
     },
     "metadata": {},
     "output_type": "display_data"
    }
   ],
   "source": [
    "pylab.plot(planck[:,0],np.multiply(planck[:,0],np.multiply(planck[:,0],planck[:,1])),label = \"Planck ($N=3.046$)\")\n",
    "pylab.plot(inter[:,0],np.multiply(inter[:,0],np.multiply(inter[:,0],inter[:,1])),label = \"Interaction ($\\sigma = 10.5$)\")\n",
    "\n",
    "\n",
    "\n",
    "#pylab.loglog(noint[:,0],cl_original,label = \"Planck (original code)\")\n",
    "\n",
    "#pylab.loglog(one_int[:,0],cl_one_int,label = \"Planck + $N_{\\text{eff}}=1.0$ + int\")\n",
    "#pylab.loglog(one_noint[:,0],cl_one_noint,label = r\"($a^4 G^m = 1 \\times 10^{-22}$), lmax = 10\")\n",
    "\n",
    "plt.rc('font', family='serif')\n",
    "pylab.legend(loc=4)\n",
    "plt.xlim((10,3000))\n",
    "#plt.ylim((5*10**-11,5*10**-9))\n",
    "pylab.grid()\n",
    "pylab.xlabel(\"$l$\")\n",
    "pylab.ylabel(\"$l(l+1)C_l/2\\pi$\")# in $[\\mu k]^2$\")\n",
    "pylab.rcParams['figure.figsize'] = (10.0, 8.0)"
   ]
  },
  {
   "cell_type": "code",
   "execution_count": null,
   "metadata": {
    "collapsed": true
   },
   "outputs": [],
   "source": []
  }
 ],
 "metadata": {
  "kernelspec": {
   "display_name": "Python 2",
   "language": "python",
   "name": "python2"
  },
  "language_info": {
   "codemirror_mode": {
    "name": "ipython",
    "version": 2
   },
   "file_extension": ".py",
   "mimetype": "text/x-python",
   "name": "python",
   "nbconvert_exporter": "python",
   "pygments_lexer": "ipython2",
   "version": "2.7.11"
  }
 },
 "nbformat": 4,
 "nbformat_minor": 0
}
